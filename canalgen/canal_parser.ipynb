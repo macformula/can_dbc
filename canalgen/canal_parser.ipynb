{
 "cells": [
  {
   "cell_type": "markdown",
   "id": "37674c6a-f9b8-43c3-8d8d-0aa5276d3c0c",
   "metadata": {},
   "source": [
    "# CANAL PARSER - Jupyter Notebook Playground"
   ]
  },
  {
   "cell_type": "markdown",
   "id": "44e8c961-dd33-4650-9fb1-3189bc334943",
   "metadata": {},
   "source": [
    "## Imports"
   ]
  },
  {
   "cell_type": "code",
   "execution_count": 18,
   "id": "8ce72ccf-fa62-40c9-8776-660faa30068d",
   "metadata": {},
   "outputs": [],
   "source": [
    "import cantools\n",
    "import math\n",
    "import os\n",
    "import json\n",
    "from pathlib import Path\n",
    "from argparse import ArgumentParser\n",
    "from sys import stderr, exit\n",
    "from os import mkdir\n",
    "from os.path import normpath, basename\n",
    "from mako.template import Template"
   ]
  },
  {
   "attachments": {},
   "cell_type": "markdown",
   "id": "01eb3623",
   "metadata": {},
   "source": [
    "# Load JSON"
   ]
  },
  {
   "cell_type": "code",
   "execution_count": 31,
   "id": "4d4be6b0-8e92-4e6a-8b09-c90be65903e2",
   "metadata": {},
   "outputs": [],
   "source": [
    "def load_constants(filename):\n",
    "    with open(filename, \"r\") as file:\n",
    "        constants_data = json.load(file)\n",
    "    return constants_data\n",
    "\n",
    "json_file = \"config.json\"\n",
    "\n",
    "# Load the constants from the JSON file\n",
    "constants = load_constants(json_file)\n",
    "\n",
    "class node:\n",
    "    def __init__(self, name):\n",
    "        self.name = name.upper()\n",
    "        \n",
    "node = node(constants[\"NODE\"])\n",
    "\n",
    "move_to_dest_path  = constants[\"MIGRATE_FILES\"]\n",
    "if move_to_dest_path:\n",
    "    # Where the files are taken from\n",
    "    base_src_path_c = constants[\"OUTPUT_LOCATION\"]\n",
    "    base_src_path_h = constants[\"OUTPUT_LOCATION\"]\n",
    "\n",
    "    # Where the files are going\n",
    "    base_dst_path_c = constants[\"MOVE_TO_LOCATION\"]\n",
    "    base_dst_path_h = constants[\"MOVE_TO_LOCATION\"]\n"
   ]
  },
  {
   "cell_type": "markdown",
   "id": "a5f2892f-b6d8-4080-a7ef-b38802af0e24",
   "metadata": {},
   "source": [
    "## Parse DBC files"
   ]
  },
  {
   "cell_type": "code",
   "execution_count": 20,
   "id": "b5320b9d-b4a0-46e9-a5b7-5bc07c5c20fb",
   "metadata": {},
   "outputs": [
    {
     "name": "stdout",
     "output_type": "stream",
     "text": [
      "Adding dbc files:\n",
      "\t CAN_BMS.dbc\n"
     ]
    }
   ],
   "source": [
    "def parse_dbc_files(dbc_path, skip_files, verbose=False):\n",
    "    can_db = cantools.database.Database()\n",
    "    dbc_files = []\n",
    "\n",
    "    if verbose:\n",
    "        print(\"Adding dbc files:\")\n",
    "    for filename in os.listdir(dbc_path):\n",
    "        f = os.path.join(dbc_path,filename).replace(\"\\\\\",\"/\")\n",
    "\n",
    "        if os.path.isfile(f) and str(f).endswith(\".dbc\") and (filename not in skip_files):\n",
    "            if verbose:\n",
    "                print(\"\\t\", filename)\n",
    "            dbc_files.append(f)\n",
    "\n",
    "    if len(dbc_files) == 0:\n",
    "        print(f'ERROR: no dbc files found in path: \"{dbc_path}\"')\n",
    "        sys.exit()\n",
    "\n",
    "    for f in dbc_files:\n",
    "        with open(f, 'r') as fin:\n",
    "            can_db.add_dbc(fin)\n",
    "    \n",
    "    return can_db\n",
    "\n",
    "dbc_path = constants[\"DBC_PATH\"]\n",
    "skip_files = constants[\"IGNORED_FILES\"]\n",
    "\n",
    "can_db = parse_dbc_files(dbc_path, skip_files, verbose=True)"
   ]
  },
  {
   "cell_type": "markdown",
   "id": "ce04be76-0e82-43f3-a667-37c276305223",
   "metadata": {},
   "source": [
    "## Signal to Type Map Generator"
   ]
  },
  {
   "cell_type": "code",
   "execution_count": 21,
   "id": "0c22bfd4-7e7e-447d-afc2-90fb5eba501e",
   "metadata": {},
   "outputs": [],
   "source": [
    "def get_signal_types(can_db):\n",
    "    sig_types = {}\n",
    "\n",
    "    for message in can_db.messages:\n",
    "        for signal in message.signals:\n",
    "            num_bits = signal.length\n",
    "            sign = \"\"\n",
    "\n",
    "            if signal.scale > 1: \n",
    "                num_bits = signal.length + math.ceil(math.log2(signal.scale))\n",
    "\n",
    "            if not signal.is_signed:\n",
    "                sign = \"u\"\n",
    "            \n",
    "            if isinstance(signal.scale, float) or signal.is_float:\n",
    "                if num_bits < 32:\n",
    "                    sig_types[message.name+signal.name] = \"float\"\n",
    "                    continue\n",
    "                else:\n",
    "                    sig_types[message.name+signal.name] = \"double\"\n",
    "                    continue\n",
    "            if num_bits == 1:\n",
    "                sig_types[message.name+signal.name] = \"_Bool\"\n",
    "            elif num_bits <= 8:\n",
    "                sig_types[message.name+signal.name] = sign + \"int8_t\"\n",
    "                continue\n",
    "            elif num_bits <= 16:\n",
    "                sig_types[message.name+signal.name] = sign + \"int16_t\"\n",
    "                continue\n",
    "            elif num_bits <= 32:\n",
    "                sig_types[message.name+signal.name] = sign + \"int32_t\"\n",
    "                continue\n",
    "            else:\n",
    "                sig_types[message.name+signal.name] = sign + \"int64_t\"\n",
    "                continue\n",
    "                \n",
    "    return sig_types\n",
    "\n",
    "sig_types = get_signal_types(can_db)"
   ]
  },
  {
   "cell_type": "markdown",
   "id": "eb382e48-7bbc-4c13-803c-afa2d423794d",
   "metadata": {
    "tags": []
   },
   "source": [
    "## Generate code from template files"
   ]
  },
  {
   "cell_type": "code",
   "execution_count": 22,
   "id": "f9655311-cacd-4296-ac17-59a040713e36",
   "metadata": {},
   "outputs": [
    {
     "name": "stdout",
     "output_type": "stream",
     "text": [
      "Rendering templates/canal_messages.c.tmpl\n",
      "Generating generated/canal_messages.c\n",
      "Rendering templates/canal_messages.h.tmpl\n",
      "Generating generated/canal_messages.h\n"
     ]
    }
   ],
   "source": [
    "def template_render(tmpl_dir, out_dir, tmpl_files, can_db, node, sig_types_dict):\n",
    "    try:\n",
    "        for template in tmpl_files:\n",
    "            template_file_path = (\n",
    "                tmpl_dir + \"/\" + basename(normpath(template)))\n",
    "            print(f\"Rendering {template_file_path}\")\n",
    "            output_file_path = (\n",
    "                out_dir + \"/\" + basename(normpath(template))).replace(\".tmpl\", \"\")\n",
    "            print(f\"Generating {output_file_path}\")\n",
    "            # Create output directory if it doesn't exist\n",
    "            try:\n",
    "                mkdir(out_dir)\n",
    "            except FileExistsError as e:\n",
    "                # Directory already exists\n",
    "                pass\n",
    "            try:\n",
    "                with open(Path(template_file_path).resolve(), 'rb') as tf:\n",
    "                    template = Template(tf.read())\n",
    "                    try:\n",
    "                        with open(Path(output_file_path), 'wb') as of:\n",
    "                            template_output = template.render(\n",
    "                                can_db=can_db, node=node, sig_types=sig_types_dict)\n",
    "                            of.write(template_output.encode('utf8'))\n",
    "                    except FileNotFoundError as e:  # pylint: disable=possibly-unused-variable\n",
    "                        print(\n",
    "                            f\"Could not find : {Path(output_file_path).resolve()}\")\n",
    "            except FileNotFoundError as e:  # pylint: disable=possibly-unused-variable\n",
    "                print(f\"Could not find : {Path(template_file_path).resolve()}\")\n",
    "    except FileNotFoundError as e:  # pylint: disable=possibly-unused-variable\n",
    "        print(f\"{e} : {Path(args.can_tmpl_fp).resolve()}\")\n",
    "        print(can_descriptor.ecu_name)\n",
    "\n",
    "tmpl_dir = constants[\"TEMPLATE_LOCATION\"]\n",
    "out_dir = constants[\"OUTPUT_LOCATION\"]\n",
    "tmpl_files = [\"canal_messages.c.tmpl\", \"canal_messages.h.tmpl\"]\n",
    "\n",
    "template_render(tmpl_dir, out_dir, tmpl_files, can_db, node, sig_types)"
   ]
  },
  {
   "cell_type": "code",
   "execution_count": 35,
   "id": "83aeb790",
   "metadata": {},
   "outputs": [
    {
     "name": "stdout",
     "output_type": "stream",
     "text": [
      "Copied generated\\canal_messages.c --> ../dbcs/generated\\canal_messages.c\n",
      "Copied generated\\canal_messages.h --> ../dbcs/generated\\canal_messages.h\n"
     ]
    }
   ],
   "source": [
    "import shutil\n",
    "\n",
    "if move_to_dest_path:\n",
    "    # Make full path to allow overwritting\n",
    "    full_src_path_c = fr\"{base_src_path_c}\\canal_messages.c\"\n",
    "    full_dst_path_c = fr\"{base_dst_path_c}\\{constants['MIGRATED_FILE_NAMES']}.c\"\n",
    "    full_src_path_h = fr\"{base_src_path_h}\\canal_messages.h\"\n",
    "    full_dst_path_h = fr\"{base_dst_path_h}\\{constants['MIGRATED_FILE_NAMES']}.h\"\n",
    "\n",
    "try:\n",
    "    # Extract the destination directory path from the destination file\n",
    "    dest_dir = os.path.dirname(full_dst_path_c)\n",
    "\n",
    "    # Create the destination directory if it doesn't exist\n",
    "    if not os.path.exists(dest_dir):\n",
    "        os.makedirs(dest_dir)\n",
    "\n",
    "    # Copy the file to the destination\n",
    "    shutil.copy(full_src_path_c, full_dst_path_c)\n",
    "    shutil.copy(full_src_path_h, full_dst_path_h)\n",
    "    print(fr\"Copied {full_src_path_c} --> {full_dst_path_c}\")\n",
    "    print(fr\"Copied {full_src_path_h} --> {full_dst_path_h}\")\n",
    "except Exception as e:\n",
    "    print(f\"Error: {e}\")"
   ]
  },
  {
   "attachments": {},
   "cell_type": "markdown",
   "id": "f82d810a",
   "metadata": {},
   "source": [
    "# Ignore everything after this"
   ]
  },
  {
   "cell_type": "code",
   "execution_count": null,
   "id": "ef04bb1e-91ef-43b5-809e-272742784cef",
   "metadata": {},
   "outputs": [],
   "source": [
    "def decode_encode_test(can_db, data, message):\n",
    "    data = bytearray(data)\n",
    "    print(\"RAW DATA: \", '[{}]'.format(', '.join(hex(x) for x in data)))\n",
    "\n",
    "    out = can_db.get_message_by_name(message).decode(data)\n",
    "\n",
    "    print(\"MESSAGE:\", message)\n",
    "    for k, v in enumerate(out):\n",
    "        print(\"\\t\"+str(v)+\": \"+str(out[v]))\n",
    "\n",
    "    data = can_db.get_message_by_name(message).encode(out)\n",
    "    print (\"RAW DATA: \", '[{}]'.format(', '.join(hex(x) for x in data)))"
   ]
  }
 ],
 "metadata": {
  "kernelspec": {
   "display_name": "Python 3 (ipykernel)",
   "language": "python",
   "name": "python3"
  },
  "language_info": {
   "codemirror_mode": {
    "name": "ipython",
    "version": 3
   },
   "file_extension": ".py",
   "mimetype": "text/x-python",
   "name": "python",
   "nbconvert_exporter": "python",
   "pygments_lexer": "ipython3",
   "version": "3.9.13"
  }
 },
 "nbformat": 4,
 "nbformat_minor": 5
}
