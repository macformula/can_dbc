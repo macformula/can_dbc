{
 "cells": [
  {
   "cell_type": "markdown",
   "id": "37674c6a-f9b8-43c3-8d8d-0aa5276d3c0c",
   "metadata": {},
   "source": [
    "# CANAL PARSER - Jupyter Notebook Playground"
   ]
  },
  {
   "cell_type": "markdown",
   "id": "44e8c961-dd33-4650-9fb1-3189bc334943",
   "metadata": {},
   "source": [
    "## Imports"
   ]
  },
  {
   "cell_type": "code",
   "execution_count": 1,
   "id": "8ce72ccf-fa62-40c9-8776-660faa30068d",
   "metadata": {},
   "outputs": [],
   "source": [
    "import cantools\n",
    "import math\n",
    "import os\n",
    "from pathlib import Path\n",
    "from argparse import ArgumentParser\n",
    "from sys import stderr, exit\n",
    "from os import mkdir\n",
    "from os.path import normpath, basename\n",
    "from mako.template import Template"
   ]
  },
  {
   "cell_type": "markdown",
   "id": "1f8bc978-3c60-4e0f-987b-cfa0edcdbc04",
   "metadata": {},
   "source": [
    "## TODO: Make this read from a JSON"
   ]
  },
  {
   "cell_type": "code",
   "execution_count": 2,
   "id": "4d4be6b0-8e92-4e6a-8b09-c90be65903e2",
   "metadata": {},
   "outputs": [],
   "source": [
    "class node:\n",
    "    def __init__(self, name):\n",
    "        self.name = name.upper()\n",
    "        \n",
    "node = node(\"DCU\")\n",
    "\n",
    "move_to_dest_path  = False\n",
    "if move_to_dest_path:\n",
    "    # Where the files are taken from\n",
    "    base_src_path_c = r\"\"\n",
    "    base_src_path_h = base_src_path_c\n",
    "\n",
    "    # Where the files are going\n",
    "    base_dst_path_c = r\"\"\n",
    "    base_dst_path_h = r\"\"\n"
   ]
  },
  {
   "cell_type": "markdown",
   "id": "a5f2892f-b6d8-4080-a7ef-b38802af0e24",
   "metadata": {},
   "source": [
    "## Parse DBC files"
   ]
  },
  {
   "cell_type": "code",
   "execution_count": 3,
   "id": "b5320b9d-b4a0-46e9-a5b7-5bc07c5c20fb",
   "metadata": {},
   "outputs": [
    {
     "name": "stdout",
     "output_type": "stream",
     "text": [
      "Adding dbc files:\n",
      "\t CAN_AMKInverter.dbc\n",
      "\t CAN_BMS.dbc\n",
      "\t CAN_TMS.dbc\n"
     ]
    }
   ],
   "source": [
    "def parse_dbc_files(dbc_path, skip_files, verbose=False):\n",
    "    can_db = cantools.database.Database()\n",
    "    dbc_files = []\n",
    "\n",
    "    if verbose:\n",
    "        print(\"Adding dbc files:\")\n",
    "    for filename in os.listdir(dbc_path):\n",
    "        f = os.path.join(dbc_path,filename).replace(\"\\\\\",\"/\")\n",
    "\n",
    "        if os.path.isfile(f) and str(f).endswith(\".dbc\") and (filename not in skip_files):\n",
    "            if verbose:\n",
    "                print(\"\\t\", filename)\n",
    "            dbc_files.append(f)\n",
    "\n",
    "    if len(dbc_files) == 0:\n",
    "        print(f'ERROR: no dbc files found in path: \"{dbc_path}\"')\n",
    "        sys.exit()\n",
    "\n",
    "    for f in dbc_files:\n",
    "        with open(f, 'r') as fin:\n",
    "            can_db.add_dbc(fin)\n",
    "    \n",
    "    return can_db\n",
    "\n",
    "dbc_path = \"../dbcs\"\n",
    "skip_files = [\"CAN_AMS.dbc\", \"CAN_Cooling.dbc\", \"CAN_AMS.dbc\", \"CAN_ESS.dbc\"]\n",
    "\n",
    "can_db = parse_dbc_files(dbc_path, skip_files, verbose=True)"
   ]
  },
  {
   "cell_type": "markdown",
   "id": "ce04be76-0e82-43f3-a667-37c276305223",
   "metadata": {},
   "source": [
    "## Signal to Type Map Generator"
   ]
  },
  {
   "cell_type": "code",
   "execution_count": 4,
   "id": "0c22bfd4-7e7e-447d-afc2-90fb5eba501e",
   "metadata": {},
   "outputs": [],
   "source": [
    "def get_signal_types(can_db):\n",
    "    sig_types = {}\n",
    "\n",
    "    for message in can_db.messages:\n",
    "        for signal in message.signals:\n",
    "            num_bits = signal.length\n",
    "            sign = \"\"\n",
    "\n",
    "            if signal.scale > 1: \n",
    "                num_bits = signal.length + math.ceil(math.log2(signal.scale))\n",
    "\n",
    "            if not signal.is_signed:\n",
    "                sign = \"u\"\n",
    "            \n",
    "            if isinstance(signal.scale, float) or signal.is_float:\n",
    "                if num_bits < 32:\n",
    "                    sig_types[message.name+signal.name] = \"float\"\n",
    "                    continue\n",
    "                else:\n",
    "                    sig_types[message.name+signal.name] = \"double\"\n",
    "                    continue\n",
    "            if num_bits == 1:\n",
    "                sig_types[message.name+signal.name] = \"_Bool\"\n",
    "            elif num_bits <= 8:\n",
    "                sig_types[message.name+signal.name] = sign + \"int8_t\"\n",
    "                continue\n",
    "            elif num_bits <= 16:\n",
    "                sig_types[message.name+signal.name] = sign + \"int16_t\"\n",
    "                continue\n",
    "            elif num_bits <= 32:\n",
    "                sig_types[message.name+signal.name] = sign + \"int32_t\"\n",
    "                continue\n",
    "            else:\n",
    "                sig_types[message.name+signal.name] = sign + \"int64_t\"\n",
    "                continue\n",
    "                \n",
    "    return sig_types\n",
    "\n",
    "sig_types = get_signal_types(can_db)"
   ]
  },
  {
   "cell_type": "markdown",
   "id": "eb382e48-7bbc-4c13-803c-afa2d423794d",
   "metadata": {
    "tags": []
   },
   "source": [
    "## Generate code from template files"
   ]
  },
  {
   "cell_type": "code",
   "execution_count": 5,
   "id": "f9655311-cacd-4296-ac17-59a040713e36",
   "metadata": {},
   "outputs": [
    {
     "name": "stdout",
     "output_type": "stream",
     "text": [
      "Rendering Templates/canal_messages.c.tmpl\n",
      "Generating Outputs/canal_messages.c\n",
      "Rendering Templates/canal_messages.h.tmpl\n",
      "Generating Outputs/canal_messages.h\n"
     ]
    }
   ],
   "source": [
    "def template_render(tmpl_dir, out_dir, tmpl_files, can_db, node, sig_types_dict):\n",
    "    try:\n",
    "        for template in tmpl_files:\n",
    "            template_file_path = (\n",
    "                tmpl_dir + \"/\" + basename(normpath(template)))\n",
    "            print(f\"Rendering {template_file_path}\")\n",
    "            output_file_path = (\n",
    "                out_dir + \"/\" + basename(normpath(template))).replace(\".tmpl\", \"\")\n",
    "            print(f\"Generating {output_file_path}\")\n",
    "            # Create output directory if it doesn't exist\n",
    "            try:\n",
    "                mkdir(out_dir)\n",
    "            except FileExistsError as e:\n",
    "                # Directory already exists\n",
    "                pass\n",
    "            try:\n",
    "                with open(Path(template_file_path).resolve(), 'rb') as tf:\n",
    "                    template = Template(tf.read())\n",
    "                    try:\n",
    "                        with open(Path(output_file_path), 'wb') as of:\n",
    "                            template_output = template.render(\n",
    "                                can_db=can_db, node=node, sig_types=sig_types_dict)\n",
    "                            of.write(template_output.encode('utf8'))\n",
    "                    except FileNotFoundError as e:  # pylint: disable=possibly-unused-variable\n",
    "                        print(\n",
    "                            f\"Could not find : {Path(output_file_path).resolve()}\")\n",
    "            except FileNotFoundError as e:  # pylint: disable=possibly-unused-variable\n",
    "                print(f\"Could not find : {Path(template_file_path).resolve()}\")\n",
    "    except FileNotFoundError as e:  # pylint: disable=possibly-unused-variable\n",
    "        print(f\"{e} : {Path(args.can_tmpl_fp).resolve()}\")\n",
    "        print(can_descriptor.ecu_name)\n",
    "\n",
    "tmpl_dir = \"Templates\"\n",
    "out_dir = \"Outputs\"\n",
    "tmpl_files = [\"canal_messages.c.tmpl\", \"canal_messages.h.tmpl\"]\n",
    "\n",
    "template_render(tmpl_dir, out_dir, tmpl_files, can_db, node, sig_types)"
   ]
  },
  {
   "cell_type": "code",
   "execution_count": 6,
   "id": "83aeb790",
   "metadata": {},
   "outputs": [],
   "source": [
    "import shutil\n",
    "\n",
    "if move_to_dest_path:\n",
    "    # Make full path to allow overwritting\n",
    "    full_src_path_c = fr\"{base_src_path_c}\\canal_messages.c\"\n",
    "    full_dst_path_c = fr\"{base_dst_path_c}\\canal_messages.c\"\n",
    "    full_src_path_h = fr\"{base_src_path_h}\\canal_messages.h\"\n",
    "    full_dst_path_h = fr\"{base_dst_path_h}\\canal_messages.h\"\n",
    "\n",
    "    shutil.copy(full_src_path_c, full_dst_path_c)\n",
    "    shutil.copy(full_src_path_h, full_dst_path_h)"
   ]
  },
  {
   "cell_type": "code",
   "execution_count": 7,
   "id": "ef04bb1e-91ef-43b5-809e-272742784cef",
   "metadata": {},
   "outputs": [],
   "source": [
    "def decode_encode_test(can_db, data, message):\n",
    "    data = bytearray(data)\n",
    "    print(\"RAW DATA: \", '[{}]'.format(', '.join(hex(x) for x in data)))\n",
    "\n",
    "    out = can_db.get_message_by_name(message).decode(data)\n",
    "\n",
    "    print(\"MESSAGE:\", message)\n",
    "    for k, v in enumerate(out):\n",
    "        print(\"\\t\"+str(v)+\": \"+str(out[v]))\n",
    "\n",
    "    data = can_db.get_message_by_name(message).encode(out)\n",
    "    print (\"RAW DATA: \", '[{}]'.format(', '.join(hex(x) for x in data)))"
   ]
  }
 ],
 "metadata": {
  "kernelspec": {
   "display_name": "Python 3 (ipykernel)",
   "language": "python",
   "name": "python3"
  },
  "language_info": {
   "codemirror_mode": {
    "name": "ipython",
    "version": 3
   },
   "file_extension": ".py",
   "mimetype": "text/x-python",
   "name": "python",
   "nbconvert_exporter": "python",
   "pygments_lexer": "ipython3",
   "version": "3.11.1"
  }
 },
 "nbformat": 4,
 "nbformat_minor": 5
}
