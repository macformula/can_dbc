{
 "cells": [
  {
   "attachments": {},
   "cell_type": "markdown",
   "metadata": {},
   "source": [
    "# Convert Notebook to Python Script"
   ]
  },
  {
   "cell_type": "code",
   "execution_count": 2,
   "metadata": {},
   "outputs": [
    {
     "name": "stdout",
     "output_type": "stream",
     "text": [
      "Collecting nbformat\n",
      "  Downloading nbformat-5.9.1-py3-none-any.whl (77 kB)\n",
      "     -------------------------------------- 77.6/77.6 KB 852.5 kB/s eta 0:00:00\n",
      "Collecting fastjsonschema\n",
      "  Downloading fastjsonschema-2.18.0-py3-none-any.whl (23 kB)\n",
      "Collecting jsonschema>=2.6\n",
      "  Downloading jsonschema-4.18.4-py3-none-any.whl (80 kB)\n",
      "     ---------------------------------------- 81.0/81.0 KB 1.5 MB/s eta 0:00:00\n",
      "Requirement already satisfied: traitlets>=5.1 in c:\\users\\hadyi\\appdata\\local\\packages\\pythonsoftwarefoundation.python.3.9_qbz5n2kfra8p0\\localcache\\local-packages\\python39\\site-packages (from nbformat) (5.9.0)\n",
      "Requirement already satisfied: jupyter-core in c:\\users\\hadyi\\appdata\\local\\packages\\pythonsoftwarefoundation.python.3.9_qbz5n2kfra8p0\\localcache\\local-packages\\python39\\site-packages (from nbformat) (5.2.0)\n",
      "Collecting jsonschema-specifications>=2023.03.6\n",
      "  Downloading jsonschema_specifications-2023.7.1-py3-none-any.whl (17 kB)\n",
      "Collecting attrs>=22.2.0\n",
      "  Downloading attrs-23.1.0-py3-none-any.whl (61 kB)\n",
      "     ---------------------------------------- 61.2/61.2 KB 1.6 MB/s eta 0:00:00\n",
      "Collecting referencing>=0.28.4\n",
      "  Downloading referencing-0.30.0-py3-none-any.whl (25 kB)\n",
      "Collecting rpds-py>=0.7.1\n",
      "  Downloading rpds_py-0.9.2-cp39-none-win_amd64.whl (180 kB)\n",
      "     -------------------------------------- 180.9/180.9 KB 2.8 MB/s eta 0:00:00\n",
      "Requirement already satisfied: pywin32>=1.0 in c:\\users\\hadyi\\appdata\\local\\packages\\pythonsoftwarefoundation.python.3.9_qbz5n2kfra8p0\\localcache\\local-packages\\python39\\site-packages (from jupyter-core->nbformat) (305)\n",
      "Requirement already satisfied: platformdirs>=2.5 in c:\\users\\hadyi\\appdata\\local\\packages\\pythonsoftwarefoundation.python.3.9_qbz5n2kfra8p0\\localcache\\local-packages\\python39\\site-packages (from jupyter-core->nbformat) (3.1.1)\n",
      "Installing collected packages: fastjsonschema, rpds-py, attrs, referencing, jsonschema-specifications, jsonschema, nbformat\n",
      "Successfully installed attrs-23.1.0 fastjsonschema-2.18.0 jsonschema-4.18.4 jsonschema-specifications-2023.7.1 nbformat-5.9.1 referencing-0.30.0 rpds-py-0.9.2\n"
     ]
    },
    {
     "name": "stderr",
     "output_type": "stream",
     "text": [
      "WARNING: You are using pip version 22.0.4; however, version 23.2.1 is available.\n",
      "You should consider upgrading via the 'C:\\Users\\hadyi\\AppData\\Local\\Microsoft\\WindowsApps\\PythonSoftwareFoundation.Python.3.9_qbz5n2kfra8p0\\python.exe -m pip install --upgrade pip' command.\n"
     ]
    }
   ],
   "source": [
    "!pip install nbformat"
   ]
  },
  {
   "cell_type": "code",
   "execution_count": 3,
   "metadata": {},
   "outputs": [],
   "source": [
    "import nbformat\n",
    "\n",
    "def convert_notebook_to_script(notebook_path, output_path):\n",
    "    with open(notebook_path, \"r\") as notebook_file:\n",
    "        notebook_content = nbformat.read(notebook_file, as_version=nbformat.NO_CONVERT)\n",
    "\n",
    "    python_code = \"\"\n",
    "    ignore_after_cell = False\n",
    "\n",
    "    for cell in notebook_content.cells:\n",
    "        if ignore_after_cell:\n",
    "            # Skip all cells after the ignore signal cell\n",
    "            continue\n",
    "\n",
    "        if cell.cell_type == \"code\":\n",
    "            python_code += cell.source + \"\\n\\n\"\n",
    "        elif cell.cell_type == \"markdown\":\n",
    "            # Check if the markdown cell contains the ignore signal\n",
    "            if \"Ignore everything after this\" in cell.source:\n",
    "                ignore_after_cell = True\n",
    "\n",
    "    with open(output_path, \"w\") as output_file:\n",
    "        output_file.write(python_code)\n",
    "\n",
    "if __name__ == \"__main__\":\n",
    "    notebook_file_path = \"canal_parser.ipynb\"  # Replace with the path to your .ipynb file\n",
    "    python_script_path = \"canal_parser.py\"     # Replace with the desired path for the .py file\n",
    "\n",
    "    convert_notebook_to_script(notebook_file_path, python_script_path)"
   ]
  }
 ],
 "metadata": {
  "kernelspec": {
   "display_name": "Python 3",
   "language": "python",
   "name": "python3"
  },
  "language_info": {
   "codemirror_mode": {
    "name": "ipython",
    "version": 3
   },
   "file_extension": ".py",
   "mimetype": "text/x-python",
   "name": "python",
   "nbconvert_exporter": "python",
   "pygments_lexer": "ipython3",
   "version": "3.9.13"
  },
  "orig_nbformat": 4
 },
 "nbformat": 4,
 "nbformat_minor": 2
}
